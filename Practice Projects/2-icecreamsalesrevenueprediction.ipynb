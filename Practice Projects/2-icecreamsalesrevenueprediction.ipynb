{
 "cells": [
  {
   "cell_type": "markdown",
   "id": "2f5c1bb4",
   "metadata": {
    "papermill": {
     "duration": 0.008048,
     "end_time": "2024-02-05T17:25:30.680491",
     "exception": false,
     "start_time": "2024-02-05T17:25:30.672443",
     "status": "completed"
    },
    "tags": []
   },
   "source": [
    "# Ice-cream Sales Revenue Prediction"
   ]
  },
  {
   "cell_type": "code",
   "execution_count": 1,
   "id": "14210c02",
   "metadata": {
    "execution": {
     "iopub.execute_input": "2024-02-05T17:25:30.698072Z",
     "iopub.status.busy": "2024-02-05T17:25:30.697524Z",
     "iopub.status.idle": "2024-02-05T17:25:33.558797Z",
     "shell.execute_reply": "2024-02-05T17:25:33.557573Z"
    },
    "papermill": {
     "duration": 2.87338,
     "end_time": "2024-02-05T17:25:33.561647",
     "exception": false,
     "start_time": "2024-02-05T17:25:30.688267",
     "status": "completed"
    },
    "tags": []
   },
   "outputs": [],
   "source": [
    "# import library\n",
    "import numpy as np\n",
    "import pandas as pd\n",
    "import matplotlib.pyplot as plt\n",
    "import seaborn as sns"
   ]
  },
  {
   "cell_type": "code",
   "execution_count": 2,
   "id": "c55486f7",
   "metadata": {
    "execution": {
     "iopub.execute_input": "2024-02-05T17:25:33.578257Z",
     "iopub.status.busy": "2024-02-05T17:25:33.577704Z",
     "iopub.status.idle": "2024-02-05T17:25:34.048063Z",
     "shell.execute_reply": "2024-02-05T17:25:34.046633Z"
    },
    "papermill": {
     "duration": 0.481944,
     "end_time": "2024-02-05T17:25:34.051327",
     "exception": false,
     "start_time": "2024-02-05T17:25:33.569383",
     "status": "completed"
    },
    "tags": []
   },
   "outputs": [],
   "source": [
    "# import dataset\n",
    "icecream = pd.read_csv('https://github.com/YBIFoundation/Dataset/raw/main/Ice%20Cream.csv')"
   ]
  },
  {
   "cell_type": "code",
   "execution_count": 3,
   "id": "a7343a1a",
   "metadata": {
    "execution": {
     "iopub.execute_input": "2024-02-05T17:25:34.068340Z",
     "iopub.status.busy": "2024-02-05T17:25:34.067839Z",
     "iopub.status.idle": "2024-02-05T17:25:34.089204Z",
     "shell.execute_reply": "2024-02-05T17:25:34.087993Z"
    },
    "papermill": {
     "duration": 0.033459,
     "end_time": "2024-02-05T17:25:34.092400",
     "exception": false,
     "start_time": "2024-02-05T17:25:34.058941",
     "status": "completed"
    },
    "tags": []
   },
   "outputs": [
    {
     "data": {
      "text/html": [
       "<div>\n",
       "<style scoped>\n",
       "    .dataframe tbody tr th:only-of-type {\n",
       "        vertical-align: middle;\n",
       "    }\n",
       "\n",
       "    .dataframe tbody tr th {\n",
       "        vertical-align: top;\n",
       "    }\n",
       "\n",
       "    .dataframe thead th {\n",
       "        text-align: right;\n",
       "    }\n",
       "</style>\n",
       "<table border=\"1\" class=\"dataframe\">\n",
       "  <thead>\n",
       "    <tr style=\"text-align: right;\">\n",
       "      <th></th>\n",
       "      <th>Temperature</th>\n",
       "      <th>Revenue</th>\n",
       "    </tr>\n",
       "  </thead>\n",
       "  <tbody>\n",
       "    <tr>\n",
       "      <th>0</th>\n",
       "      <td>24.6</td>\n",
       "      <td>535</td>\n",
       "    </tr>\n",
       "    <tr>\n",
       "      <th>1</th>\n",
       "      <td>26.1</td>\n",
       "      <td>626</td>\n",
       "    </tr>\n",
       "    <tr>\n",
       "      <th>2</th>\n",
       "      <td>27.8</td>\n",
       "      <td>661</td>\n",
       "    </tr>\n",
       "    <tr>\n",
       "      <th>3</th>\n",
       "      <td>20.6</td>\n",
       "      <td>488</td>\n",
       "    </tr>\n",
       "    <tr>\n",
       "      <th>4</th>\n",
       "      <td>11.6</td>\n",
       "      <td>317</td>\n",
       "    </tr>\n",
       "  </tbody>\n",
       "</table>\n",
       "</div>"
      ],
      "text/plain": [
       "   Temperature  Revenue\n",
       "0         24.6      535\n",
       "1         26.1      626\n",
       "2         27.8      661\n",
       "3         20.6      488\n",
       "4         11.6      317"
      ]
     },
     "execution_count": 3,
     "metadata": {},
     "output_type": "execute_result"
    }
   ],
   "source": [
    "icecream.head()"
   ]
  },
  {
   "cell_type": "code",
   "execution_count": 4,
   "id": "fd83e031",
   "metadata": {
    "execution": {
     "iopub.execute_input": "2024-02-05T17:25:34.115753Z",
     "iopub.status.busy": "2024-02-05T17:25:34.115289Z",
     "iopub.status.idle": "2024-02-05T17:25:34.153037Z",
     "shell.execute_reply": "2024-02-05T17:25:34.151653Z"
    },
    "papermill": {
     "duration": 0.052573,
     "end_time": "2024-02-05T17:25:34.156133",
     "exception": false,
     "start_time": "2024-02-05T17:25:34.103560",
     "status": "completed"
    },
    "tags": []
   },
   "outputs": [
    {
     "name": "stdout",
     "output_type": "stream",
     "text": [
      "<class 'pandas.core.frame.DataFrame'>\n",
      "RangeIndex: 500 entries, 0 to 499\n",
      "Data columns (total 2 columns):\n",
      " #   Column       Non-Null Count  Dtype  \n",
      "---  ------       --------------  -----  \n",
      " 0   Temperature  500 non-null    float64\n",
      " 1   Revenue      500 non-null    int64  \n",
      "dtypes: float64(1), int64(1)\n",
      "memory usage: 7.9 KB\n"
     ]
    }
   ],
   "source": [
    "icecream.info()"
   ]
  },
  {
   "cell_type": "code",
   "execution_count": 5,
   "id": "baa5c6e6",
   "metadata": {
    "execution": {
     "iopub.execute_input": "2024-02-05T17:25:34.173867Z",
     "iopub.status.busy": "2024-02-05T17:25:34.173036Z",
     "iopub.status.idle": "2024-02-05T17:25:34.197392Z",
     "shell.execute_reply": "2024-02-05T17:25:34.196311Z"
    },
    "papermill": {
     "duration": 0.037148,
     "end_time": "2024-02-05T17:25:34.200983",
     "exception": false,
     "start_time": "2024-02-05T17:25:34.163835",
     "status": "completed"
    },
    "tags": []
   },
   "outputs": [
    {
     "data": {
      "text/html": [
       "<div>\n",
       "<style scoped>\n",
       "    .dataframe tbody tr th:only-of-type {\n",
       "        vertical-align: middle;\n",
       "    }\n",
       "\n",
       "    .dataframe tbody tr th {\n",
       "        vertical-align: top;\n",
       "    }\n",
       "\n",
       "    .dataframe thead th {\n",
       "        text-align: right;\n",
       "    }\n",
       "</style>\n",
       "<table border=\"1\" class=\"dataframe\">\n",
       "  <thead>\n",
       "    <tr style=\"text-align: right;\">\n",
       "      <th></th>\n",
       "      <th>Temperature</th>\n",
       "      <th>Revenue</th>\n",
       "    </tr>\n",
       "  </thead>\n",
       "  <tbody>\n",
       "    <tr>\n",
       "      <th>count</th>\n",
       "      <td>500.000000</td>\n",
       "      <td>500.000000</td>\n",
       "    </tr>\n",
       "    <tr>\n",
       "      <th>mean</th>\n",
       "      <td>22.281600</td>\n",
       "      <td>522.058000</td>\n",
       "    </tr>\n",
       "    <tr>\n",
       "      <th>std</th>\n",
       "      <td>8.097597</td>\n",
       "      <td>175.410399</td>\n",
       "    </tr>\n",
       "    <tr>\n",
       "      <th>min</th>\n",
       "      <td>0.000000</td>\n",
       "      <td>10.000000</td>\n",
       "    </tr>\n",
       "    <tr>\n",
       "      <th>25%</th>\n",
       "      <td>17.175000</td>\n",
       "      <td>406.000000</td>\n",
       "    </tr>\n",
       "    <tr>\n",
       "      <th>50%</th>\n",
       "      <td>22.400000</td>\n",
       "      <td>530.000000</td>\n",
       "    </tr>\n",
       "    <tr>\n",
       "      <th>75%</th>\n",
       "      <td>27.800000</td>\n",
       "      <td>643.000000</td>\n",
       "    </tr>\n",
       "    <tr>\n",
       "      <th>max</th>\n",
       "      <td>45.000000</td>\n",
       "      <td>1000.000000</td>\n",
       "    </tr>\n",
       "  </tbody>\n",
       "</table>\n",
       "</div>"
      ],
      "text/plain": [
       "       Temperature      Revenue\n",
       "count   500.000000   500.000000\n",
       "mean     22.281600   522.058000\n",
       "std       8.097597   175.410399\n",
       "min       0.000000    10.000000\n",
       "25%      17.175000   406.000000\n",
       "50%      22.400000   530.000000\n",
       "75%      27.800000   643.000000\n",
       "max      45.000000  1000.000000"
      ]
     },
     "execution_count": 5,
     "metadata": {},
     "output_type": "execute_result"
    }
   ],
   "source": [
    "icecream.describe()"
   ]
  },
  {
   "cell_type": "code",
   "execution_count": 6,
   "id": "1b1d0a3a",
   "metadata": {
    "execution": {
     "iopub.execute_input": "2024-02-05T17:25:34.223413Z",
     "iopub.status.busy": "2024-02-05T17:25:34.222612Z",
     "iopub.status.idle": "2024-02-05T17:25:34.231165Z",
     "shell.execute_reply": "2024-02-05T17:25:34.229898Z"
    },
    "papermill": {
     "duration": 0.026135,
     "end_time": "2024-02-05T17:25:34.237219",
     "exception": false,
     "start_time": "2024-02-05T17:25:34.211084",
     "status": "completed"
    },
    "tags": []
   },
   "outputs": [
    {
     "data": {
      "text/plain": [
       "Index(['Temperature', 'Revenue'], dtype='object')"
      ]
     },
     "execution_count": 6,
     "metadata": {},
     "output_type": "execute_result"
    }
   ],
   "source": [
    "# define y and X\n",
    "icecream.columns"
   ]
  },
  {
   "cell_type": "code",
   "execution_count": 7,
   "id": "6ec950c3",
   "metadata": {
    "execution": {
     "iopub.execute_input": "2024-02-05T17:25:34.259082Z",
     "iopub.status.busy": "2024-02-05T17:25:34.257897Z",
     "iopub.status.idle": "2024-02-05T17:25:34.265854Z",
     "shell.execute_reply": "2024-02-05T17:25:34.264880Z"
    },
    "papermill": {
     "duration": 0.019679,
     "end_time": "2024-02-05T17:25:34.268410",
     "exception": false,
     "start_time": "2024-02-05T17:25:34.248731",
     "status": "completed"
    },
    "tags": []
   },
   "outputs": [],
   "source": [
    "y = icecream['Revenue']\n",
    "X = icecream[['Temperature']]"
   ]
  },
  {
   "cell_type": "code",
   "execution_count": 8,
   "id": "8660aa66",
   "metadata": {
    "execution": {
     "iopub.execute_input": "2024-02-05T17:25:34.291422Z",
     "iopub.status.busy": "2024-02-05T17:25:34.290179Z",
     "iopub.status.idle": "2024-02-05T17:25:34.755224Z",
     "shell.execute_reply": "2024-02-05T17:25:34.754072Z"
    },
    "papermill": {
     "duration": 0.481977,
     "end_time": "2024-02-05T17:25:34.758444",
     "exception": false,
     "start_time": "2024-02-05T17:25:34.276467",
     "status": "completed"
    },
    "tags": []
   },
   "outputs": [],
   "source": [
    "# split\n",
    "from sklearn.model_selection import train_test_split\n",
    "X_train,X_test,y_train,y_test = train_test_split(X,y,random_state=2529)"
   ]
  },
  {
   "cell_type": "code",
   "execution_count": 9,
   "id": "86b28c40",
   "metadata": {
    "execution": {
     "iopub.execute_input": "2024-02-05T17:25:34.783526Z",
     "iopub.status.busy": "2024-02-05T17:25:34.782457Z",
     "iopub.status.idle": "2024-02-05T17:25:34.905867Z",
     "shell.execute_reply": "2024-02-05T17:25:34.904622Z"
    },
    "papermill": {
     "duration": 0.139695,
     "end_time": "2024-02-05T17:25:34.909568",
     "exception": false,
     "start_time": "2024-02-05T17:25:34.769873",
     "status": "completed"
    },
    "tags": []
   },
   "outputs": [],
   "source": [
    "# select model\n",
    "from sklearn.linear_model import LinearRegression\n",
    "reg = LinearRegression()"
   ]
  },
  {
   "cell_type": "code",
   "execution_count": 10,
   "id": "f29a4a45",
   "metadata": {
    "execution": {
     "iopub.execute_input": "2024-02-05T17:25:34.934568Z",
     "iopub.status.busy": "2024-02-05T17:25:34.933593Z",
     "iopub.status.idle": "2024-02-05T17:25:34.966711Z",
     "shell.execute_reply": "2024-02-05T17:25:34.965608Z"
    },
    "papermill": {
     "duration": 0.04831,
     "end_time": "2024-02-05T17:25:34.970104",
     "exception": false,
     "start_time": "2024-02-05T17:25:34.921794",
     "status": "completed"
    },
    "tags": []
   },
   "outputs": [
    {
     "data": {
      "text/html": [
       "<style>#sk-container-id-1 {color: black;background-color: white;}#sk-container-id-1 pre{padding: 0;}#sk-container-id-1 div.sk-toggleable {background-color: white;}#sk-container-id-1 label.sk-toggleable__label {cursor: pointer;display: block;width: 100%;margin-bottom: 0;padding: 0.3em;box-sizing: border-box;text-align: center;}#sk-container-id-1 label.sk-toggleable__label-arrow:before {content: \"▸\";float: left;margin-right: 0.25em;color: #696969;}#sk-container-id-1 label.sk-toggleable__label-arrow:hover:before {color: black;}#sk-container-id-1 div.sk-estimator:hover label.sk-toggleable__label-arrow:before {color: black;}#sk-container-id-1 div.sk-toggleable__content {max-height: 0;max-width: 0;overflow: hidden;text-align: left;background-color: #f0f8ff;}#sk-container-id-1 div.sk-toggleable__content pre {margin: 0.2em;color: black;border-radius: 0.25em;background-color: #f0f8ff;}#sk-container-id-1 input.sk-toggleable__control:checked~div.sk-toggleable__content {max-height: 200px;max-width: 100%;overflow: auto;}#sk-container-id-1 input.sk-toggleable__control:checked~label.sk-toggleable__label-arrow:before {content: \"▾\";}#sk-container-id-1 div.sk-estimator input.sk-toggleable__control:checked~label.sk-toggleable__label {background-color: #d4ebff;}#sk-container-id-1 div.sk-label input.sk-toggleable__control:checked~label.sk-toggleable__label {background-color: #d4ebff;}#sk-container-id-1 input.sk-hidden--visually {border: 0;clip: rect(1px 1px 1px 1px);clip: rect(1px, 1px, 1px, 1px);height: 1px;margin: -1px;overflow: hidden;padding: 0;position: absolute;width: 1px;}#sk-container-id-1 div.sk-estimator {font-family: monospace;background-color: #f0f8ff;border: 1px dotted black;border-radius: 0.25em;box-sizing: border-box;margin-bottom: 0.5em;}#sk-container-id-1 div.sk-estimator:hover {background-color: #d4ebff;}#sk-container-id-1 div.sk-parallel-item::after {content: \"\";width: 100%;border-bottom: 1px solid gray;flex-grow: 1;}#sk-container-id-1 div.sk-label:hover label.sk-toggleable__label {background-color: #d4ebff;}#sk-container-id-1 div.sk-serial::before {content: \"\";position: absolute;border-left: 1px solid gray;box-sizing: border-box;top: 0;bottom: 0;left: 50%;z-index: 0;}#sk-container-id-1 div.sk-serial {display: flex;flex-direction: column;align-items: center;background-color: white;padding-right: 0.2em;padding-left: 0.2em;position: relative;}#sk-container-id-1 div.sk-item {position: relative;z-index: 1;}#sk-container-id-1 div.sk-parallel {display: flex;align-items: stretch;justify-content: center;background-color: white;position: relative;}#sk-container-id-1 div.sk-item::before, #sk-container-id-1 div.sk-parallel-item::before {content: \"\";position: absolute;border-left: 1px solid gray;box-sizing: border-box;top: 0;bottom: 0;left: 50%;z-index: -1;}#sk-container-id-1 div.sk-parallel-item {display: flex;flex-direction: column;z-index: 1;position: relative;background-color: white;}#sk-container-id-1 div.sk-parallel-item:first-child::after {align-self: flex-end;width: 50%;}#sk-container-id-1 div.sk-parallel-item:last-child::after {align-self: flex-start;width: 50%;}#sk-container-id-1 div.sk-parallel-item:only-child::after {width: 0;}#sk-container-id-1 div.sk-dashed-wrapped {border: 1px dashed gray;margin: 0 0.4em 0.5em 0.4em;box-sizing: border-box;padding-bottom: 0.4em;background-color: white;}#sk-container-id-1 div.sk-label label {font-family: monospace;font-weight: bold;display: inline-block;line-height: 1.2em;}#sk-container-id-1 div.sk-label-container {text-align: center;}#sk-container-id-1 div.sk-container {/* jupyter's `normalize.less` sets `[hidden] { display: none; }` but bootstrap.min.css set `[hidden] { display: none !important; }` so we also need the `!important` here to be able to override the default hidden behavior on the sphinx rendered scikit-learn.org. See: https://github.com/scikit-learn/scikit-learn/issues/21755 */display: inline-block !important;position: relative;}#sk-container-id-1 div.sk-text-repr-fallback {display: none;}</style><div id=\"sk-container-id-1\" class=\"sk-top-container\"><div class=\"sk-text-repr-fallback\"><pre>LinearRegression()</pre><b>In a Jupyter environment, please rerun this cell to show the HTML representation or trust the notebook. <br />On GitHub, the HTML representation is unable to render, please try loading this page with nbviewer.org.</b></div><div class=\"sk-container\" hidden><div class=\"sk-item\"><div class=\"sk-estimator sk-toggleable\"><input class=\"sk-toggleable__control sk-hidden--visually\" id=\"sk-estimator-id-1\" type=\"checkbox\" checked><label for=\"sk-estimator-id-1\" class=\"sk-toggleable__label sk-toggleable__label-arrow\">LinearRegression</label><div class=\"sk-toggleable__content\"><pre>LinearRegression()</pre></div></div></div></div></div>"
      ],
      "text/plain": [
       "LinearRegression()"
      ]
     },
     "execution_count": 10,
     "metadata": {},
     "output_type": "execute_result"
    }
   ],
   "source": [
    "# train model\n",
    "reg.fit(X_train,y_train)"
   ]
  },
  {
   "cell_type": "code",
   "execution_count": 11,
   "id": "da3f3be8",
   "metadata": {
    "execution": {
     "iopub.execute_input": "2024-02-05T17:25:34.998205Z",
     "iopub.status.busy": "2024-02-05T17:25:34.996851Z",
     "iopub.status.idle": "2024-02-05T17:25:35.005041Z",
     "shell.execute_reply": "2024-02-05T17:25:35.003998Z"
    },
    "papermill": {
     "duration": 0.025041,
     "end_time": "2024-02-05T17:25:35.008768",
     "exception": false,
     "start_time": "2024-02-05T17:25:34.983727",
     "status": "completed"
    },
    "tags": []
   },
   "outputs": [
    {
     "data": {
      "text/plain": [
       "(44.01809759024559, array([21.4695184]))"
      ]
     },
     "execution_count": 11,
     "metadata": {},
     "output_type": "execute_result"
    }
   ],
   "source": [
    "# intercept and slope\n",
    "reg.intercept_, reg.coef_"
   ]
  },
  {
   "cell_type": "code",
   "execution_count": 12,
   "id": "c8721d2d",
   "metadata": {
    "execution": {
     "iopub.execute_input": "2024-02-05T17:25:35.033943Z",
     "iopub.status.busy": "2024-02-05T17:25:35.032488Z",
     "iopub.status.idle": "2024-02-05T17:25:35.040994Z",
     "shell.execute_reply": "2024-02-05T17:25:35.039496Z"
    },
    "papermill": {
     "duration": 0.021631,
     "end_time": "2024-02-05T17:25:35.044150",
     "exception": false,
     "start_time": "2024-02-05T17:25:35.022519",
     "status": "completed"
    },
    "tags": []
   },
   "outputs": [],
   "source": [
    "# prediction\n",
    "y_pred = reg.predict(X_test)"
   ]
  },
  {
   "cell_type": "code",
   "execution_count": 13,
   "id": "eb989f8d",
   "metadata": {
    "execution": {
     "iopub.execute_input": "2024-02-05T17:25:35.067762Z",
     "iopub.status.busy": "2024-02-05T17:25:35.067314Z",
     "iopub.status.idle": "2024-02-05T17:25:35.072227Z",
     "shell.execute_reply": "2024-02-05T17:25:35.071295Z"
    },
    "papermill": {
     "duration": 0.018092,
     "end_time": "2024-02-05T17:25:35.074469",
     "exception": false,
     "start_time": "2024-02-05T17:25:35.056377",
     "status": "completed"
    },
    "tags": []
   },
   "outputs": [],
   "source": [
    "# model evaluation\n",
    "from sklearn.metrics import mean_absolute_error, mean_squared_error, mean_absolute_percentage_error, r2_score"
   ]
  },
  {
   "cell_type": "code",
   "execution_count": 14,
   "id": "16b3ceb2",
   "metadata": {
    "execution": {
     "iopub.execute_input": "2024-02-05T17:25:35.093563Z",
     "iopub.status.busy": "2024-02-05T17:25:35.092738Z",
     "iopub.status.idle": "2024-02-05T17:25:35.100281Z",
     "shell.execute_reply": "2024-02-05T17:25:35.099323Z"
    },
    "papermill": {
     "duration": 0.020078,
     "end_time": "2024-02-05T17:25:35.102932",
     "exception": false,
     "start_time": "2024-02-05T17:25:35.082854",
     "status": "completed"
    },
    "tags": []
   },
   "outputs": [
    {
     "data": {
      "text/plain": [
       "18.36955828371228"
      ]
     },
     "execution_count": 14,
     "metadata": {},
     "output_type": "execute_result"
    }
   ],
   "source": [
    "mean_absolute_error(y_test,y_pred)"
   ]
  },
  {
   "cell_type": "code",
   "execution_count": 15,
   "id": "bf7360db",
   "metadata": {
    "execution": {
     "iopub.execute_input": "2024-02-05T17:25:35.122468Z",
     "iopub.status.busy": "2024-02-05T17:25:35.122021Z",
     "iopub.status.idle": "2024-02-05T17:25:35.130253Z",
     "shell.execute_reply": "2024-02-05T17:25:35.129348Z"
    },
    "papermill": {
     "duration": 0.020916,
     "end_time": "2024-02-05T17:25:35.132428",
     "exception": false,
     "start_time": "2024-02-05T17:25:35.111512",
     "status": "completed"
    },
    "tags": []
   },
   "outputs": [
    {
     "data": {
      "text/plain": [
       "517.4978493670573"
      ]
     },
     "execution_count": 15,
     "metadata": {},
     "output_type": "execute_result"
    }
   ],
   "source": [
    "mean_squared_error(y_test,y_pred)"
   ]
  },
  {
   "cell_type": "code",
   "execution_count": 16,
   "id": "9bcba19b",
   "metadata": {
    "execution": {
     "iopub.execute_input": "2024-02-05T17:25:35.152164Z",
     "iopub.status.busy": "2024-02-05T17:25:35.151186Z",
     "iopub.status.idle": "2024-02-05T17:25:35.159106Z",
     "shell.execute_reply": "2024-02-05T17:25:35.157922Z"
    },
    "papermill": {
     "duration": 0.020639,
     "end_time": "2024-02-05T17:25:35.161654",
     "exception": false,
     "start_time": "2024-02-05T17:25:35.141015",
     "status": "completed"
    },
    "tags": []
   },
   "outputs": [
    {
     "data": {
      "text/plain": [
       "0.04155209268159152"
      ]
     },
     "execution_count": 16,
     "metadata": {},
     "output_type": "execute_result"
    }
   ],
   "source": [
    "mean_absolute_percentage_error(y_test,y_pred)"
   ]
  },
  {
   "cell_type": "code",
   "execution_count": 17,
   "id": "f5a1db33",
   "metadata": {
    "execution": {
     "iopub.execute_input": "2024-02-05T17:25:35.182128Z",
     "iopub.status.busy": "2024-02-05T17:25:35.181293Z",
     "iopub.status.idle": "2024-02-05T17:25:35.188530Z",
     "shell.execute_reply": "2024-02-05T17:25:35.187464Z"
    },
    "papermill": {
     "duration": 0.020166,
     "end_time": "2024-02-05T17:25:35.191160",
     "exception": false,
     "start_time": "2024-02-05T17:25:35.170994",
     "status": "completed"
    },
    "tags": []
   },
   "outputs": [
    {
     "data": {
      "text/plain": [
       "0.9841801999698918"
      ]
     },
     "execution_count": 17,
     "metadata": {},
     "output_type": "execute_result"
    }
   ],
   "source": [
    "r2_score(y_test,y_pred)"
   ]
  },
  {
   "cell_type": "markdown",
   "id": "e811d49b",
   "metadata": {
    "papermill": {
     "duration": 0.008643,
     "end_time": "2024-02-05T17:25:35.208697",
     "exception": false,
     "start_time": "2024-02-05T17:25:35.200054",
     "status": "completed"
    },
    "tags": []
   },
   "source": [
    "## Use Statsmodels Library"
   ]
  },
  {
   "cell_type": "code",
   "execution_count": 18,
   "id": "430dc7af",
   "metadata": {
    "execution": {
     "iopub.execute_input": "2024-02-05T17:25:35.229040Z",
     "iopub.status.busy": "2024-02-05T17:25:35.227870Z",
     "iopub.status.idle": "2024-02-05T17:25:37.081518Z",
     "shell.execute_reply": "2024-02-05T17:25:37.080073Z"
    },
    "papermill": {
     "duration": 1.866821,
     "end_time": "2024-02-05T17:25:37.084333",
     "exception": false,
     "start_time": "2024-02-05T17:25:35.217512",
     "status": "completed"
    },
    "tags": []
   },
   "outputs": [
    {
     "name": "stdout",
     "output_type": "stream",
     "text": [
      "                                 OLS Regression Results                                \n",
      "=======================================================================================\n",
      "Dep. Variable:                Revenue   R-squared (uncentered):                   0.997\n",
      "Model:                            OLS   Adj. R-squared (uncentered):              0.997\n",
      "Method:                 Least Squares   F-statistic:                          1.777e+05\n",
      "Date:                Mon, 15 Jul 2024   Prob (F-statistic):                        0.00\n",
      "Time:                        11:25:05   Log-Likelihood:                         -2395.6\n",
      "No. Observations:                 500   AIC:                                      4793.\n",
      "Df Residuals:                     499   BIC:                                      4797.\n",
      "Df Model:                           1                                                  \n",
      "Covariance Type:            nonrobust                                                  \n",
      "===============================================================================\n",
      "                  coef    std err          t      P>|t|      [0.025      0.975]\n",
      "-------------------------------------------------------------------------------\n",
      "Temperature    23.1985      0.055    421.521      0.000      23.090      23.307\n",
      "==============================================================================\n",
      "Omnibus:                        3.200   Durbin-Watson:                   2.020\n",
      "Prob(Omnibus):                  0.202   Jarque-Bera (JB):                3.420\n",
      "Skew:                           0.075   Prob(JB):                        0.181\n",
      "Kurtosis:                       3.377   Cond. No.                         1.00\n",
      "==============================================================================\n",
      "\n",
      "Notes:\n",
      "[1] R² is computed without centering (uncentered) since the model does not contain a constant.\n",
      "[2] Standard Errors assume that the covariance matrix of the errors is correctly specified.\n"
     ]
    }
   ],
   "source": [
    "import statsmodels.api as sm\n",
    "X1 = sm.add_constant(X)\n",
    "print(sm.OLS(y,X).fit().summary())"
   ]
  },
  {
   "cell_type": "code",
   "execution_count": null,
   "id": "915d92a2",
   "metadata": {
    "papermill": {
     "duration": 0.008771,
     "end_time": "2024-02-05T17:25:37.102234",
     "exception": false,
     "start_time": "2024-02-05T17:25:37.093463",
     "status": "completed"
    },
    "tags": []
   },
   "outputs": [],
   "source": []
  }
 ],
 "metadata": {
  "kaggle": {
   "accelerator": "none",
   "dataSources": [],
   "dockerImageVersionId": 30646,
   "isGpuEnabled": false,
   "isInternetEnabled": true,
   "language": "python",
   "sourceType": "notebook"
  },
  "kernelspec": {
   "display_name": "Python 3",
   "language": "python",
   "name": "python3"
  },
  "language_info": {
   "codemirror_mode": {
    "name": "ipython",
    "version": 3
   },
   "file_extension": ".py",
   "mimetype": "text/x-python",
   "name": "python",
   "nbconvert_exporter": "python",
   "pygments_lexer": "ipython3",
   "version": "3.11.9"
  },
  "papermill": {
   "default_parameters": {},
   "duration": 10.845347,
   "end_time": "2024-02-05T17:25:37.833303",
   "environment_variables": {},
   "exception": null,
   "input_path": "__notebook__.ipynb",
   "output_path": "__notebook__.ipynb",
   "parameters": {},
   "start_time": "2024-02-05T17:25:26.987956",
   "version": "2.5.0"
  }
 },
 "nbformat": 4,
 "nbformat_minor": 5
}
